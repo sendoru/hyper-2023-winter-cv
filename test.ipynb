{
 "cells": [
  {
   "cell_type": "code",
   "execution_count": 1,
   "metadata": {},
   "outputs": [
    {
     "name": "stdout",
     "output_type": "stream",
     "text": [
      "Jupyter environment detected. Enabling Open3D WebVisualizer.\n",
      "[Open3D INFO] WebRTC GUI backend enabled.\n",
      "[Open3D INFO] WebRTCWindowSystem: HTTP handshake server disabled.\n"
     ]
    }
   ],
   "source": [
    "import time\n",
    "import cv2\n",
    "import mediapipe as mp\n",
    "import open3d as o3d \n",
    "import numpy as np\n",
    "import copy\n",
    "from constants import *\n",
    "from recon_3d_hand import *"
   ]
  },
  {
   "cell_type": "code",
   "execution_count": 2,
   "metadata": {},
   "outputs": [
    {
     "name": "stdout",
     "output_type": "stream",
     "text": [
      "HAND NUMBER: 1\n",
      "-----------------------\n",
      "\n",
      "HAND NUMBER: 1\n",
      "-----------------------\n"
     ]
    }
   ],
   "source": [
    "mp_drawing = mp.solutions.drawing_utils\n",
    "mp_drawing_styles = mp.solutions.drawing_styles\n",
    "mp_hands = mp.solutions.hands\n",
    "cap_l = cv2.VideoCapture(\"./output_L_near.mp4\")\n",
    "cap_r = cv2.VideoCapture(\"./output_R_near.mp4\")\n",
    "\n",
    "def preprocess(image: np.ndarray):\n",
    "    image = cv2.undistort(image, L_INTRINSIC, L_DISTORTION)\n",
    "    image.flags.writeable = False\n",
    "    image = cv2.cvtColor(image, cv2.COLOR_BGR2RGB)\n",
    "    results = hands.process(image)\n",
    "    # Draw the hand annotations on the image.\n",
    "    image.flags.writeable = True\n",
    "    image = cv2.cvtColor(image, cv2.COLOR_RGB2BGR)\n",
    "    return results\n",
    "\n",
    "def draw_hand(results, image):\n",
    "    for hand_no, hand_landmarks in enumerate(results.multi_hand_landmarks):\n",
    "        print(f'HAND NUMBER: {hand_no+1}')\n",
    "        print('-----------------------')\n",
    "        print(hand_landmarks)\n",
    "        mp_drawing.draw_landmarks(\n",
    "            image,\n",
    "            hand_landmarks,\n",
    "            mp_hands.HAND_CONNECTIONS,\n",
    "            mp_drawing_styles.get_default_hand_landmarks_style(),\n",
    "            mp_drawing_styles.get_default_hand_connections_style())\n",
    "\n",
    "hands = mp_hands.Hands(\n",
    "    model_complexity=0,\n",
    "    min_detection_confidence=0.5,\n",
    "    min_tracking_confidence=0.5)\n",
    "    \n",
    "# skip first 2 seconds\n",
    "for i in range(60):\n",
    "    cap_l.read()\n",
    "    cap_r.read()\n",
    "\n",
    "success_l, image_l = cap_l.read()\n",
    "success_r, image_r = cap_r.read()\n",
    "img_h = image_l.shape[0]\n",
    "img_w = image_l.shape[1]\n",
    "\n",
    "results_l = preprocess(image_l)\n",
    "results_r = preprocess(image_r)\n",
    "\n",
    "cv2.imwrite(\"image_l.jpg\", image_l)\n",
    "cv2.imwrite(\"image_r.jpg\", image_r)\n",
    "\n",
    "log = open(\"log.txt\", \"w\")\n",
    "print(\"image_l\", file=log)\n",
    "hand_landmarks_l, hand_landmarks_r = None, None\n",
    "for hand_no, hand_landmarks in enumerate(results_l.multi_hand_landmarks):\n",
    "    print(f'HAND NUMBER: {hand_no+1}')\n",
    "    print('-----------------------')\n",
    "    print(hand_landmarks, file=log)\n",
    "print()\n",
    "\n",
    "print(\"image_r\", file=log)\n",
    "for hand_no, hand_landmarks in enumerate(results_r.multi_hand_landmarks):\n",
    "    print(f'HAND NUMBER: {hand_no+1}')\n",
    "    print('-----------------------')\n",
    "    print(hand_landmarks, file=log)\n",
    "\n",
    "log.close()\n",
    "\n",
    "cap_l.release()\n",
    "cap_r.release()"
   ]
  },
  {
   "cell_type": "code",
   "execution_count": 3,
   "metadata": {},
   "outputs": [
    {
     "data": {
      "text/plain": [
       "[landmark {\n",
       "   x: 0.5119716\n",
       "   y: 0.46511874\n",
       "   z: 5.013267e-09\n",
       " }\n",
       " landmark {\n",
       "   x: 0.49663305\n",
       "   y: 0.42661428\n",
       "   z: -0.014274559\n",
       " }\n",
       " landmark {\n",
       "   x: 0.4700387\n",
       "   y: 0.400224\n",
       "   z: -0.022088015\n",
       " }\n",
       " landmark {\n",
       "   x: 0.44542393\n",
       "   y: 0.3867668\n",
       "   z: -0.02916176\n",
       " }\n",
       " landmark {\n",
       "   x: 0.42720497\n",
       "   y: 0.37633583\n",
       "   z: -0.037117977\n",
       " }\n",
       " landmark {\n",
       "   x: 0.43202165\n",
       "   y: 0.43580496\n",
       "   z: -0.013240789\n",
       " }\n",
       " landmark {\n",
       "   x: 0.3992369\n",
       "   y: 0.42970952\n",
       "   z: -0.020881668\n",
       " }\n",
       " landmark {\n",
       "   x: 0.37862957\n",
       "   y: 0.42743522\n",
       "   z: -0.02657172\n",
       " }\n",
       " landmark {\n",
       "   x: 0.36152437\n",
       "   y: 0.4265106\n",
       "   z: -0.03106045\n",
       " }\n",
       " landmark {\n",
       "   x: 0.43126878\n",
       "   y: 0.46360937\n",
       "   z: -0.01344802\n",
       " }\n",
       " landmark {\n",
       "   x: 0.39608142\n",
       "   y: 0.46863395\n",
       "   z: -0.019876318\n",
       " }\n",
       " landmark {\n",
       "   x: 0.3750423\n",
       "   y: 0.47221562\n",
       "   z: -0.026504908\n",
       " }\n",
       " landmark {\n",
       "   x: 0.3583005\n",
       "   y: 0.47534367\n",
       "   z: -0.032198947\n",
       " }\n",
       " landmark {\n",
       "   x: 0.4382964\n",
       "   y: 0.48684642\n",
       "   z: -0.015277623\n",
       " }\n",
       " landmark {\n",
       "   x: 0.4087016\n",
       "   y: 0.49703792\n",
       "   z: -0.02421399\n",
       " }\n",
       " landmark {\n",
       "   x: 0.3888755\n",
       "   y: 0.50322866\n",
       "   z: -0.033060946\n",
       " }\n",
       " landmark {\n",
       "   x: 0.3722929\n",
       "   y: 0.50759023\n",
       "   z: -0.03908863\n",
       " }\n",
       " landmark {\n",
       "   x: 0.45128384\n",
       "   y: 0.50657797\n",
       "   z: -0.018646652\n",
       " }\n",
       " landmark {\n",
       "   x: 0.43316522\n",
       "   y: 0.5210855\n",
       "   z: -0.026839683\n",
       " }\n",
       " landmark {\n",
       "   x: 0.4220503\n",
       "   y: 0.52762246\n",
       "   z: -0.03290571\n",
       " }\n",
       " landmark {\n",
       "   x: 0.41234368\n",
       "   y: 0.53187\n",
       "   z: -0.037216295\n",
       " }]"
      ]
     },
     "execution_count": 3,
     "metadata": {},
     "output_type": "execute_result"
    }
   ],
   "source": [
    "results_l.multi_hand_landmarks"
   ]
  },
  {
   "cell_type": "code",
   "execution_count": 4,
   "metadata": {},
   "outputs": [],
   "source": [
    "hand_2d_l = map_hand_to_2d(results_l, img_w, img_h)\n",
    "hand_2d_r = map_hand_to_2d(results_r, img_w, img_h)"
   ]
  },
  {
   "cell_type": "code",
   "execution_count": 5,
   "metadata": {},
   "outputs": [
    {
     "data": {
      "text/plain": [
       "[array([[128.79201889, 262.47467995],\n",
       "        [118.45064163, 243.92097473],\n",
       "        [100.61891556, 231.22787476],\n",
       "        [ 84.24786568, 224.84381676],\n",
       "        [ 72.11100578, 219.4754076 ],\n",
       "        [ 75.76274395, 248.33639145],\n",
       "        [ 55.74825287, 245.50658226],\n",
       "        [ 43.44602108, 244.71745491],\n",
       "        [ 33.28650475, 244.74615097],\n",
       "        [ 74.84756947, 261.91884041],\n",
       "        [ 53.16241264, 264.06211853],\n",
       "        [ 40.51186085, 266.05361938],\n",
       "        [ 30.62821388, 268.20227623],\n",
       "        [ 78.45066547, 273.64445686],\n",
       "        [ 59.38266754, 277.72773743],\n",
       "        [ 48.05189133, 280.61525345],\n",
       "        [ 39.04788256, 283.03645134],\n",
       "        [ 85.33477783, 283.93672943],\n",
       "        [ 71.14654064, 289.78048325],\n",
       "        [ 62.6199007 , 292.67014503],\n",
       "        [ 55.13030529, 294.93424416]])]"
      ]
     },
     "execution_count": 5,
     "metadata": {},
     "output_type": "execute_result"
    }
   ],
   "source": [
    "hand_2d_r"
   ]
  },
  {
   "cell_type": "code",
   "execution_count": 6,
   "metadata": {},
   "outputs": [],
   "source": [
    "hand_3d = recon_3d_hand_points(image_l, image_r, results_l, results_r)"
   ]
  },
  {
   "cell_type": "code",
   "execution_count": 8,
   "metadata": {},
   "outputs": [
    {
     "data": {
      "text/plain": [
       "array([[ 4.33493112e+00, -9.86865261e-01, -9.85363868e+00,\n",
       "        -1.77599841e+01, -2.34360671e+01, -2.18304561e+01,\n",
       "        -3.18463335e+01, -3.79371350e+01, -4.28656499e+01,\n",
       "        -2.19638776e+01, -3.26379711e+01, -3.88000001e+01,\n",
       "        -4.35896372e+01, -1.96648709e+01, -2.86835058e+01,\n",
       "        -3.46127957e+01, -3.95023604e+01, -1.54576684e+01,\n",
       "        -2.09763670e+01, -2.42789103e+01, -2.71034857e+01],\n",
       "       [-2.65284023e-02, -1.11578746e+01, -1.86083221e+01,\n",
       "        -2.22324327e+01, -2.51305508e+01, -8.19397394e+00,\n",
       "        -9.74394177e+00, -1.01915360e+01, -1.02177548e+01,\n",
       "        -2.13565104e-01,  1.19657376e+00,  2.32291776e+00,\n",
       "         3.42296751e+00,  6.55120222e+00,  9.17964490e+00,\n",
       "         1.08955252e+01,  1.22223592e+01,  1.23957560e+01,\n",
       "         1.60668494e+01,  1.77585833e+01,  1.89459978e+01],\n",
       "       [ 3.59192183e+02,  3.55975910e+02,  3.50241938e+02,\n",
       "         3.44809552e+02,  3.40652757e+02,  3.42073192e+02,\n",
       "         3.35658479e+02,  3.31661165e+02,  3.28294490e+02,\n",
       "         3.41625036e+02,  3.34597994e+02,  3.30451232e+02,\n",
       "         3.27197567e+02,  3.42494954e+02,  3.36116163e+02,\n",
       "         3.32690246e+02,  3.30064625e+02,  3.44204109e+02,\n",
       "         3.38700270e+02,  3.35414129e+02,  3.32499292e+02]])"
      ]
     },
     "execution_count": 8,
     "metadata": {},
     "output_type": "execute_result"
    }
   ],
   "source": [
    "hand_3d"
   ]
  },
  {
   "cell_type": "code",
   "execution_count": 9,
   "metadata": {},
   "outputs": [],
   "source": [
    "pointcloud, lines = connect_3d_hand_points(hand_3d)"
   ]
  },
  {
   "cell_type": "code",
   "execution_count": 12,
   "metadata": {},
   "outputs": [],
   "source": [
    "o3d.visualization.draw_geometries([pointcloud, lines])"
   ]
  },
  {
   "cell_type": "code",
   "execution_count": null,
   "metadata": {},
   "outputs": [],
   "source": []
  }
 ],
 "metadata": {
  "kernelspec": {
   "display_name": "base",
   "language": "python",
   "name": "python3"
  },
  "language_info": {
   "codemirror_mode": {
    "name": "ipython",
    "version": 3
   },
   "file_extension": ".py",
   "mimetype": "text/x-python",
   "name": "python",
   "nbconvert_exporter": "python",
   "pygments_lexer": "ipython3",
   "version": "3.9.12"
  },
  "orig_nbformat": 4,
  "vscode": {
   "interpreter": {
    "hash": "a781d8b9dd5115ff1a1cc09afc5b07b04c4e0d28471bfe45e7733334bf0ff596"
   }
  }
 },
 "nbformat": 4,
 "nbformat_minor": 2
}
